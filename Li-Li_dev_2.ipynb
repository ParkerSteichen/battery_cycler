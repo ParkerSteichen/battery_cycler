{
 "cells": [
  {
   "cell_type": "code",
   "execution_count": 1,
   "metadata": {},
   "outputs": [],
   "source": [
    "import numpy as np\n",
    "import pandas as pd\n",
    "import matplotlib.pyplot as plt\n",
    "\n",
    "import batt_cycle"
   ]
  },
  {
   "cell_type": "markdown",
   "metadata": {},
   "source": [
    "Goal: Develop a function that break the cycle indeces up appropriately such that charge/discharge data are appropriately paired\n",
    "\n",
    "def pull_cycle(cycle_num, cycle_indeces, df_break):  \n",
    "&nbsp;&nbsp;&nbsp;&nbsp; pairs up charge/discharge so that calling cycle 1 give charge+discharge1  \n",
    "&nbsp;&nbsp;&nbsp;&nbsp; return list where each index is two lists containing data indeces\n",
    "    "
   ]
  },
  {
   "cell_type": "code",
   "execution_count": 126,
   "metadata": {},
   "outputs": [],
   "source": [
    "# folder holding data of interest\n",
    "folder = '../Data/Li-Li/Data_2_7_19/'\n",
    "\n",
    "# imports and concatenates the data for each of the 10 symmetric cells\n",
    "PP_A_0 = batt_cycle.import_data(folder + '_002_4_nodrop.xls', 3)\n",
    "# cleans and preps dataframes for plotting\n",
    "PP_A, PP_A_break = batt_cycle.clean_prep_break(PP_A_0)"
   ]
  },
  {
   "cell_type": "code",
   "execution_count": 127,
   "metadata": {},
   "outputs": [
    {
     "data": {
      "text/plain": [
       "[<matplotlib.lines.Line2D at 0x102046710>]"
      ]
     },
     "execution_count": 127,
     "metadata": {},
     "output_type": "execute_result"
    },
    {
     "data": {
      "image/png": "[encoded data removed]",
      "text/plain": [
       "<Figure size 432x288 with 1 Axes>"
      ]
     },
     "metadata": {
      "needs_background": "light"
     },
     "output_type": "display_data"
    }
   ],
   "source": [
    "cycle_indeces = batt_cycle.return_cylce_indeces(2, PP_A_break)\n",
    "\n",
    "cycle_data = PP_A[PP_A.index.isin(cycle_indeces)]\n",
    "plt.plot(cycle_data['time_sec'], cycle_data['voltage'])"
   ]
  },
  {
   "cell_type": "code",
   "execution_count": 20,
   "metadata": {},
   "outputs": [],
   "source": [
    "def return_cycle_indeces_v2(df_break):\n",
    "    \"\"\"docstring\"\"\"\n",
    "    cycle_data = []\n",
    "    start = df_break[cycle - 1] + 2\n",
    "    end = df_break[cycle] - 1\n",
    "    cycle_index = np.arange(start, end)\n",
    "    return cycle_index"
   ]
  },
  {
   "cell_type": "code",
   "execution_count": 27,
   "metadata": {},
   "outputs": [
    {
     "name": "stdout",
     "output_type": "stream",
     "text": [
      "194\n",
      "[1, 485, 1209, 1933, 2657, 3382, 4106, 4828, 5552, 6276, 7000, 7724, 8448, 9172, 9896, 10620, 11344, 12068, 12793, 13517, 14241, 14965, 15689, 16413, 17137, 17861, 18585, 19309, 20033, 20757, 21481, 22205, 22929, 23653, 24377, 25101, 25825, 26549, 27273, 27997, 28721, 29445, 30169, 30893, 31617, 32341, 33065, 33789, 34513, 35237, 35961, 36685, 37409, 38133, 38857, 39581, 40305, 41029, 41753, 42477, 43201, 43925, 44621, 45345, 46069, 46793, 47517, 48241, 48965, 49689, 50413, 51137, 51861, 52585, 53309, 54033, 54757, 55481, 56205, 56929, 57652, 58376, 59100, 59824, 60548, 61272, 61996, 62720, 63444, 64168, 64892, 65616, 66340, 67064, 67788, 68512, 69236, 69960, 70684, 71408, 72132, 72856, 73580, 74304, 75028, 75751, 76459, 77183, 77907, 78631, 79355, 80079, 80803, 81527, 82251, 82975, 83699, 84423, 85147, 85871, 86595, 87319, 88043, 88767, 89491, 90215, 90939, 91663, 92387, 93094, 93818, 94542, 95266, 95990, 96714, 97438, 98162, 98886, 99592, 100316, 101040, 101764, 102488, 103212, 103936, 104660, 105384, 106108, 106832, 107556, 108280, 109004, 109728, 110452, 111176, 111900, 112624, 113348, 114072, 114796, 115520, 116244, 116968, 117692, 118420, 119144, 119868, 120592, 121316, 122040, 122764, 123488, 124212, 124936, 125661, 126389, 127115, 127840, 128564, 129288, 130012, 130735, 131460, 132183, 132907, 133631, 134355, 135079, 135803, 136527, 137251, 137975, 138699, 139423]\n"
     ]
    }
   ],
   "source": [
    "print(len(df_break))\n",
    "print(df_break)\n"
   ]
  },
  {
   "cell_type": "code",
   "execution_count": 144,
   "metadata": {},
   "outputs": [],
   "source": [
    "df_break = PP_A_break\n",
    "rest = True\n",
    "\n",
    "cycle_indeces = []\n",
    "# saves rest data as index[0], if no rest saves None\n",
    "if rest == True:\n",
    "    start = df_break[0] + 2\n",
    "    end = df_break[1] - 1\n",
    "    rest_index = np.arange(start, end)\n",
    "    cycle_indeces.append(rest_index)\n",
    "    num_cycles = (len(df_break)-2)//2\n",
    "    if len(df_break) % 2 == 0:\n",
    "        drop_partial = True\n",
    "    elif len(df_break) % 2 != 0:\n",
    "        drop_partial = False\n",
    "    if drop_partial == True:\n",
    "        for i in np.arange(1, len(df_break)-1, 2):\n",
    "            charge_start = df_break[i]+2\n",
    "            charge_end = df_break[i+1]-1\n",
    "            charge_index = np.arange(charge_start, charge_end)\n",
    "            discharge_start = df_break[i+1]+2\n",
    "            discharge_end = df_break[i+2]-1\n",
    "            discharge_index = np.arange(discharge_start, discharge_end)\n",
    "            full_cycle_index = [charge_index, discharge_index]\n",
    "            cycle_indeces.append(full_cycle_index)\n",
    "    elif drop_partial == False:\n",
    "        for i in np.arange(1, len(df_break)-3, 2):\n",
    "            charge_start = df_break[i]+2\n",
    "            charge_end = df_break[i+1]-1\n",
    "            charge_index = np.arange(charge_start, charge_end)\n",
    "            discharge_start = df_break[i+1]+2\n",
    "            discharge_end = df_break[i+2]-1\n",
    "            discharge_index = np.arange(discharge_start, discharge_end)\n",
    "            full_cycle_index = [charge_index, discharge_index]\n",
    "            cycle_indeces.append(full_cycle_index)\n",
    "        i = len(df_break)-3\n",
    "        charge_start = df_break[i]+2\n",
    "        charge_end = df_break[i+1]-1\n",
    "        charge_index = np.arange(charge_start, charge_end)\n",
    "        discharge_start = df_break[i+1]+2\n",
    "        discharge_end = df_break[-1]\n",
    "        discharge_index = np.arange(discharge_start, discharge_end)\n",
    "        full_cycle_index = [charge_index, discharge_index]\n",
    "        cycle_indeces.append(full_cycle_index)\n",
    "elif rest == False:\n",
    "    cycle_indeces.append('No Rest')\n",
    "    num_cycles = (len(df_break)-1)//2\n",
    "    if len(df_break) % 2 == 0:\n",
    "        drop_partial = False\n",
    "    elif len(df_break) % 2 != 0:\n",
    "        drop_partial = True\n",
    "    pass\n",
    "\n",
    "\n"
   ]
  },
  {
   "cell_type": "code",
   "execution_count": 146,
   "metadata": {},
   "outputs": [
    {
     "name": "stdout",
     "output_type": "stream",
     "text": [
      "num_cycle = 95\n",
      "rest = True\n",
      "drop_partial = False\n",
      "len(cycle_indeces) = 97\n"
     ]
    },
    {
     "data": {
      "text/plain": [
       "[array([137253, 137254, 137255, 137256, 137257, 137258, 137259, 137260,\n",
       "        137261, 137262, 137263, 137264, 137265, 137266, 137267, 137268,\n",
       "        137269, 137270, 137271, 137272, 137273, 137274, 137275, 137276,\n",
       "        137277, 137278, 137279, 137280, 137281, 137282, 137283, 137284,\n",
       "        137285, 137286, 137287, 137288, 137289, 137290, 137291, 137292,\n",
       "        137293, 137294, 137295, 137296, 137297, 137298, 137299, 137300,\n",
       "        137301, 137302, 137303, 137304, 137305, 137306, 137307, 137308,\n",
       "        137309, 137310, 137311, 137312, 137313, 137314, 137315, 137316,\n",
       "        137317, 137318, 137319, 137320, 137321, 137322, 137323, 137324,\n",
       "        137325, 137326, 137327, 137328, 137329, 137330, 137331, 137332,\n",
       "        137333, 137334, 137335, 137336, 137337, 137338, 137339, 137340,\n",
       "        137341, 137342, 137343, 137344, 137345, 137346, 137347, 137348,\n",
       "        137349, 137350, 137351, 137352, 137353, 137354, 137355, 137356,\n",
       "        137357, 137358, 137359, 137360, 137361, 137362, 137363, 137364,\n",
       "        137365, 137366, 137367, 137368, 137369, 137370, 137371, 137372,\n",
       "        137373, 137374, 137375, 137376, 137377, 137378, 137379, 137380,\n",
       "        137381, 137382, 137383, 137384, 137385, 137386, 137387, 137388,\n",
       "        137389, 137390, 137391, 137392, 137393, 137394, 137395, 137396,\n",
       "        137397, 137398, 137399, 137400, 137401, 137402, 137403, 137404,\n",
       "        137405, 137406, 137407, 137408, 137409, 137410, 137411, 137412,\n",
       "        137413, 137414, 137415, 137416, 137417, 137418, 137419, 137420,\n",
       "        137421, 137422, 137423, 137424, 137425, 137426, 137427, 137428,\n",
       "        137429, 137430, 137431, 137432, 137433, 137434, 137435, 137436,\n",
       "        137437, 137438, 137439, 137440, 137441, 137442, 137443, 137444,\n",
       "        137445, 137446, 137447, 137448, 137449, 137450, 137451, 137452,\n",
       "        137453, 137454, 137455, 137456, 137457, 137458, 137459, 137460,\n",
       "        137461, 137462, 137463, 137464, 137465, 137466, 137467, 137468,\n",
       "        137469, 137470, 137471, 137472, 137473, 137474, 137475, 137476,\n",
       "        137477, 137478, 137479, 137480, 137481, 137482, 137483, 137484,\n",
       "        137485, 137486, 137487, 137488, 137489, 137490, 137491, 137492,\n",
       "        137493, 137494, 137495, 137496, 137497, 137498, 137499, 137500,\n",
       "        137501, 137502, 137503, 137504, 137505, 137506, 137507, 137508,\n",
       "        137509, 137510, 137511, 137512, 137513, 137514, 137515, 137516,\n",
       "        137517, 137518, 137519, 137520, 137521, 137522, 137523, 137524,\n",
       "        137525, 137526, 137527, 137528, 137529, 137530, 137531, 137532,\n",
       "        137533, 137534, 137535, 137536, 137537, 137538, 137539, 137540,\n",
       "        137541, 137542, 137543, 137544, 137545, 137546, 137547, 137548,\n",
       "        137549, 137550, 137551, 137552, 137553, 137554, 137555, 137556,\n",
       "        137557, 137558, 137559, 137560, 137561, 137562, 137563, 137564,\n",
       "        137565, 137566, 137567, 137568, 137569, 137570, 137571, 137572,\n",
       "        137573, 137574, 137575, 137576, 137577, 137578, 137579, 137580,\n",
       "        137581, 137582, 137583, 137584, 137585, 137586, 137587, 137588,\n",
       "        137589, 137590, 137591, 137592, 137593, 137594, 137595, 137596,\n",
       "        137597, 137598, 137599, 137600, 137601, 137602, 137603, 137604,\n",
       "        137605, 137606, 137607, 137608, 137609, 137610, 137611, 137612,\n",
       "        137613, 137614, 137615, 137616, 137617, 137618, 137619, 137620,\n",
       "        137621, 137622, 137623, 137624, 137625, 137626, 137627, 137628,\n",
       "        137629, 137630, 137631, 137632, 137633, 137634, 137635, 137636,\n",
       "        137637, 137638, 137639, 137640, 137641, 137642, 137643, 137644,\n",
       "        137645, 137646, 137647, 137648, 137649, 137650, 137651, 137652,\n",
       "        137653, 137654, 137655, 137656, 137657, 137658, 137659, 137660,\n",
       "        137661, 137662, 137663, 137664, 137665, 137666, 137667, 137668,\n",
       "        137669, 137670, 137671, 137672, 137673, 137674, 137675, 137676,\n",
       "        137677, 137678, 137679, 137680, 137681, 137682, 137683, 137684,\n",
       "        137685, 137686, 137687, 137688, 137689, 137690, 137691, 137692,\n",
       "        137693, 137694, 137695, 137696, 137697, 137698, 137699, 137700,\n",
       "        137701, 137702, 137703, 137704, 137705, 137706, 137707, 137708,\n",
       "        137709, 137710, 137711, 137712, 137713, 137714, 137715, 137716,\n",
       "        137717, 137718, 137719, 137720, 137721, 137722, 137723, 137724,\n",
       "        137725, 137726, 137727, 137728, 137729, 137730, 137731, 137732,\n",
       "        137733, 137734, 137735, 137736, 137737, 137738, 137739, 137740,\n",
       "        137741, 137742, 137743, 137744, 137745, 137746, 137747, 137748,\n",
       "        137749, 137750, 137751, 137752, 137753, 137754, 137755, 137756,\n",
       "        137757, 137758, 137759, 137760, 137761, 137762, 137763, 137764,\n",
       "        137765, 137766, 137767, 137768, 137769, 137770, 137771, 137772,\n",
       "        137773, 137774, 137775, 137776, 137777, 137778, 137779, 137780,\n",
       "        137781, 137782, 137783, 137784, 137785, 137786, 137787, 137788,\n",
       "        137789, 137790, 137791, 137792, 137793, 137794, 137795, 137796,\n",
       "        137797, 137798, 137799, 137800, 137801, 137802, 137803, 137804,\n",
       "        137805, 137806, 137807, 137808, 137809, 137810, 137811, 137812,\n",
       "        137813, 137814, 137815, 137816, 137817, 137818, 137819, 137820,\n",
       "        137821, 137822, 137823, 137824, 137825, 137826, 137827, 137828,\n",
       "        137829, 137830, 137831, 137832, 137833, 137834, 137835, 137836,\n",
       "        137837, 137838, 137839, 137840, 137841, 137842, 137843, 137844,\n",
       "        137845, 137846, 137847, 137848, 137849, 137850, 137851, 137852,\n",
       "        137853, 137854, 137855, 137856, 137857, 137858, 137859, 137860,\n",
       "        137861, 137862, 137863, 137864, 137865, 137866, 137867, 137868,\n",
       "        137869, 137870, 137871, 137872, 137873, 137874, 137875, 137876,\n",
       "        137877, 137878, 137879, 137880, 137881, 137882, 137883, 137884,\n",
       "        137885, 137886, 137887, 137888, 137889, 137890, 137891, 137892,\n",
       "        137893, 137894, 137895, 137896, 137897, 137898, 137899, 137900,\n",
       "        137901, 137902, 137903, 137904, 137905, 137906, 137907, 137908,\n",
       "        137909, 137910, 137911, 137912, 137913, 137914, 137915, 137916,\n",
       "        137917, 137918, 137919, 137920, 137921, 137922, 137923, 137924,\n",
       "        137925, 137926, 137927, 137928, 137929, 137930, 137931, 137932,\n",
       "        137933, 137934, 137935, 137936, 137937, 137938, 137939, 137940,\n",
       "        137941, 137942, 137943, 137944, 137945, 137946, 137947, 137948,\n",
       "        137949, 137950, 137951, 137952, 137953, 137954, 137955, 137956,\n",
       "        137957, 137958, 137959, 137960, 137961, 137962, 137963, 137964,\n",
       "        137965, 137966, 137967, 137968, 137969, 137970, 137971, 137972,\n",
       "        137973]),\n",
       " array([137977, 137978, 137979, 137980, 137981, 137982, 137983, 137984,\n",
       "        137985, 137986, 137987, 137988, 137989, 137990, 137991, 137992,\n",
       "        137993, 137994, 137995, 137996, 137997, 137998, 137999, 138000,\n",
       "        138001, 138002, 138003, 138004, 138005, 138006, 138007, 138008,\n",
       "        138009, 138010, 138011, 138012, 138013, 138014, 138015, 138016,\n",
       "        138017, 138018, 138019, 138020, 138021, 138022, 138023, 138024,\n",
       "        138025, 138026, 138027, 138028, 138029, 138030, 138031, 138032,\n",
       "        138033, 138034, 138035, 138036, 138037, 138038, 138039, 138040,\n",
       "        138041, 138042, 138043, 138044, 138045, 138046, 138047, 138048,\n",
       "        138049, 138050, 138051, 138052, 138053, 138054, 138055, 138056,\n",
       "        138057, 138058, 138059, 138060, 138061, 138062, 138063, 138064,\n",
       "        138065, 138066, 138067, 138068, 138069, 138070, 138071, 138072,\n",
       "        138073, 138074, 138075, 138076, 138077, 138078, 138079, 138080,\n",
       "        138081, 138082, 138083, 138084, 138085, 138086, 138087, 138088,\n",
       "        138089, 138090, 138091, 138092, 138093, 138094, 138095, 138096,\n",
       "        138097, 138098, 138099, 138100, 138101, 138102, 138103, 138104,\n",
       "        138105, 138106, 138107, 138108, 138109, 138110, 138111, 138112,\n",
       "        138113, 138114, 138115, 138116, 138117, 138118, 138119, 138120,\n",
       "        138121, 138122, 138123, 138124, 138125, 138126, 138127, 138128,\n",
       "        138129, 138130, 138131, 138132, 138133, 138134, 138135, 138136,\n",
       "        138137, 138138, 138139, 138140, 138141, 138142, 138143, 138144,\n",
       "        138145, 138146, 138147, 138148, 138149, 138150, 138151, 138152,\n",
       "        138153, 138154, 138155, 138156, 138157, 138158, 138159, 138160,\n",
       "        138161, 138162, 138163, 138164, 138165, 138166, 138167, 138168,\n",
       "        138169, 138170, 138171, 138172, 138173, 138174, 138175, 138176,\n",
       "        138177, 138178, 138179, 138180, 138181, 138182, 138183, 138184,\n",
       "        138185, 138186, 138187, 138188, 138189, 138190, 138191, 138192,\n",
       "        138193, 138194, 138195, 138196, 138197, 138198, 138199, 138200,\n",
       "        138201, 138202, 138203, 138204, 138205, 138206, 138207, 138208,\n",
       "        138209, 138210, 138211, 138212, 138213, 138214, 138215, 138216,\n",
       "        138217, 138218, 138219, 138220, 138221, 138222, 138223, 138224,\n",
       "        138225, 138226, 138227, 138228, 138229, 138230, 138231, 138232,\n",
       "        138233, 138234, 138235, 138236, 138237, 138238, 138239, 138240,\n",
       "        138241, 138242, 138243, 138244, 138245, 138246, 138247, 138248,\n",
       "        138249, 138250, 138251, 138252, 138253, 138254, 138255, 138256,\n",
       "        138257, 138258, 138259, 138260, 138261, 138262, 138263, 138264,\n",
       "        138265, 138266, 138267, 138268, 138269, 138270, 138271, 138272,\n",
       "        138273, 138274, 138275, 138276, 138277, 138278, 138279, 138280,\n",
       "        138281, 138282, 138283, 138284, 138285, 138286, 138287, 138288,\n",
       "        138289, 138290, 138291, 138292, 138293, 138294, 138295, 138296,\n",
       "        138297, 138298, 138299, 138300, 138301, 138302, 138303, 138304,\n",
       "        138305, 138306, 138307, 138308, 138309, 138310, 138311, 138312,\n",
       "        138313, 138314, 138315, 138316, 138317, 138318, 138319, 138320,\n",
       "        138321, 138322, 138323, 138324, 138325, 138326, 138327, 138328,\n",
       "        138329, 138330, 138331, 138332, 138333, 138334, 138335, 138336,\n",
       "        138337, 138338, 138339, 138340, 138341, 138342, 138343, 138344,\n",
       "        138345, 138346, 138347, 138348, 138349, 138350, 138351, 138352,\n",
       "        138353, 138354, 138355, 138356, 138357, 138358, 138359, 138360,\n",
       "        138361, 138362, 138363, 138364, 138365, 138366, 138367, 138368,\n",
       "        138369, 138370, 138371, 138372, 138373, 138374, 138375, 138376,\n",
       "        138377, 138378, 138379, 138380, 138381, 138382, 138383, 138384,\n",
       "        138385, 138386, 138387, 138388, 138389, 138390, 138391, 138392,\n",
       "        138393, 138394, 138395, 138396, 138397, 138398, 138399, 138400,\n",
       "        138401, 138402, 138403, 138404, 138405, 138406, 138407, 138408,\n",
       "        138409, 138410, 138411, 138412, 138413, 138414, 138415, 138416,\n",
       "        138417, 138418, 138419, 138420, 138421, 138422, 138423, 138424,\n",
       "        138425, 138426, 138427, 138428, 138429, 138430, 138431, 138432,\n",
       "        138433, 138434, 138435, 138436, 138437, 138438, 138439, 138440,\n",
       "        138441, 138442, 138443, 138444, 138445, 138446, 138447, 138448,\n",
       "        138449, 138450, 138451, 138452, 138453, 138454, 138455, 138456,\n",
       "        138457, 138458, 138459, 138460, 138461, 138462, 138463, 138464,\n",
       "        138465, 138466, 138467, 138468, 138469, 138470, 138471, 138472,\n",
       "        138473, 138474, 138475, 138476, 138477, 138478, 138479, 138480,\n",
       "        138481, 138482, 138483, 138484, 138485, 138486, 138487, 138488,\n",
       "        138489, 138490, 138491, 138492, 138493, 138494, 138495, 138496,\n",
       "        138497, 138498, 138499, 138500, 138501, 138502, 138503, 138504,\n",
       "        138505, 138506, 138507, 138508, 138509, 138510, 138511, 138512,\n",
       "        138513, 138514, 138515, 138516, 138517, 138518, 138519, 138520,\n",
       "        138521, 138522, 138523, 138524, 138525, 138526, 138527, 138528,\n",
       "        138529, 138530, 138531, 138532, 138533, 138534, 138535, 138536,\n",
       "        138537, 138538, 138539, 138540, 138541, 138542, 138543, 138544,\n",
       "        138545, 138546, 138547, 138548, 138549, 138550, 138551, 138552,\n",
       "        138553, 138554, 138555, 138556, 138557, 138558, 138559, 138560,\n",
       "        138561, 138562, 138563, 138564, 138565, 138566, 138567, 138568,\n",
       "        138569, 138570, 138571, 138572, 138573, 138574, 138575, 138576,\n",
       "        138577, 138578, 138579, 138580, 138581, 138582, 138583, 138584,\n",
       "        138585, 138586, 138587, 138588, 138589, 138590, 138591, 138592,\n",
       "        138593, 138594, 138595, 138596, 138597, 138598, 138599, 138600,\n",
       "        138601, 138602, 138603, 138604, 138605, 138606, 138607, 138608,\n",
       "        138609, 138610, 138611, 138612, 138613, 138614, 138615, 138616,\n",
       "        138617, 138618, 138619, 138620, 138621, 138622, 138623, 138624,\n",
       "        138625, 138626, 138627, 138628, 138629, 138630, 138631, 138632,\n",
       "        138633, 138634, 138635, 138636, 138637, 138638, 138639, 138640,\n",
       "        138641, 138642, 138643, 138644, 138645, 138646, 138647, 138648,\n",
       "        138649, 138650, 138651, 138652, 138653, 138654, 138655, 138656,\n",
       "        138657, 138658, 138659, 138660, 138661, 138662, 138663, 138664,\n",
       "        138665, 138666, 138667, 138668, 138669, 138670, 138671, 138672,\n",
       "        138673, 138674, 138675, 138676, 138677, 138678, 138679, 138680,\n",
       "        138681, 138682, 138683, 138684, 138685, 138686, 138687, 138688,\n",
       "        138689, 138690, 138691, 138692, 138693, 138694, 138695, 138696,\n",
       "        138697, 138698])]"
      ]
     },
     "execution_count": 146,
     "metadata": {},
     "output_type": "execute_result"
    }
   ],
   "source": [
    "print('num_cycle = {}'.format(num_cycles))\n",
    "print('rest = {}'.format(rest))\n",
    "print('drop_partial = {}'.format(drop_partial))\n",
    "print('len(cycle_indeces) = {}'.format(len(cycle_indeces)))\n",
    "cycle_indeces[96]"
   ]
  },
  {
   "cell_type": "code",
   "execution_count": 113,
   "metadata": {},
   "outputs": [
    {
     "name": "stdout",
     "output_type": "stream",
     "text": [
      "[  1   3   5   7   9  11  13  15  17  19  21  23  25  27  29  31  33  35\n",
      "  37  39  41  43  45  47  49  51  53  55  57  59  61  63  65  67  69  71\n",
      "  73  75  77  79  81  83  85  87  89  91  93  95  97  99 101 103 105 107\n",
      " 109 111 113 115 117 119 121 123 125 127 129 131 133 135 137 139 141 143\n",
      " 145 147 149 151 153 155 157 159 161 163 165 167 169 171 173 175 177 179\n",
      " 181 183 185 187 189]\n",
      "95\n"
     ]
    }
   ],
   "source": [
    "x = np.arange(1, len(df_break)-3, 2)\n",
    "print(x)\n",
    "print(len(x))"
   ]
  },
  {
   "cell_type": "code",
   "execution_count": 139,
   "metadata": {},
   "outputs": [
    {
     "data": {
      "text/plain": [
       "array([  1,   3,   5,   7,   9,  11,  13,  15,  17,  19,  21,  23,  25,\n",
       "        27,  29,  31,  33,  35,  37,  39,  41,  43,  45,  47,  49,  51,\n",
       "        53,  55,  57,  59,  61,  63,  65,  67,  69,  71,  73,  75,  77,\n",
       "        79,  81,  83,  85,  87,  89,  91,  93,  95,  97,  99, 101, 103,\n",
       "       105, 107, 109, 111, 113, 115, 117, 119, 121, 123, 125, 127, 129,\n",
       "       131, 133, 135, 137, 139, 141, 143, 145, 147, 149, 151, 153, 155,\n",
       "       157, 159, 161, 163, 165, 167, 169, 171, 173, 175, 177, 179, 181,\n",
       "       183, 185, 187, 189, 191])"
      ]
     },
     "execution_count": 139,
     "metadata": {},
     "output_type": "execute_result"
    }
   ],
   "source": [
    "np.arange(1, len(df_break), 2)"
   ]
  },
  {
   "cell_type": "code",
   "execution_count": 131,
   "metadata": {},
   "outputs": [
    {
     "data": {
      "text/plain": [
       "193"
      ]
     },
     "execution_count": 131,
     "metadata": {},
     "output_type": "execute_result"
    }
   ],
   "source": [
    "len(df_break)"
   ]
  },
  {
   "cell_type": "code",
   "execution_count": 142,
   "metadata": {},
   "outputs": [
    {
     "data": {
      "text/plain": [
       "138699"
      ]
     },
     "execution_count": 142,
     "metadata": {},
     "output_type": "execute_result"
    }
   ],
   "source": []
  },
  {
   "cell_type": "markdown",
   "metadata": {},
   "source": [
    "To do: \n",
    "Correct number of cycles variable. Not used for anything in the code but currently it is wrong."
   ]
  },
  {
   "cell_type": "code",
   "execution_count": null,
   "metadata": {},
   "outputs": [],
   "source": []
  }
 ],
 "metadata": {
  "kernelspec": {
   "display_name": "Python 3",
   "language": "python",
   "name": "python3"
  },
  "language_info": {
   "codemirror_mode": {
    "name": "ipython",
    "version": 3
   },
   "file_extension": ".py",
   "mimetype": "text/x-python",
   "name": "python",
   "nbconvert_exporter": "python",
   "pygments_lexer": "ipython3",
   "version": "3.7.1"
  }
 },
 "nbformat": 4,
 "nbformat_minor": 2
}
