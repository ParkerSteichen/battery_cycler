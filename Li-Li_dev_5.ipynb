{
 "cells": [
  {
   "cell_type": "code",
   "execution_count": 34,
   "metadata": {},
   "outputs": [],
   "source": [
    "import numpy as np\n",
    "import pandas as pd\n",
    "import matplotlib.pyplot as plt\n",
    "import pickle\n",
    "import time\n",
    "\n",
    "import batt_cycle"
   ]
  },
  {
   "cell_type": "code",
   "execution_count": 35,
   "metadata": {},
   "outputs": [],
   "source": [
    "# folder holding data of interest\n",
    "folder = '../Data/Li-Li/Data_2_21_19/'"
   ]
  },
  {
   "cell_type": "code",
   "execution_count": 36,
   "metadata": {},
   "outputs": [
    {
     "name": "stdout",
     "output_type": "stream",
     "text": [
      "Number of Cycles = 201\n",
      "--- 125.9165461063385 seconds ---\n"
     ]
    }
   ],
   "source": [
    "start_time = time.time()\n",
    "# imports and concatenates the data for a cell\n",
    "PP_A_0 = batt_cycle.import_data(folder + 'PP_A190130_002_4.xls', 5)\n",
    "# cleans and preps dataframes\n",
    "PP_A, PP_A_break = batt_cycle.clean_prep_break(PP_A_0)\n",
    "# reshapes the index data\n",
    "PP_A_indeces = batt_cycle.reshape_cycle_indeces(PP_A, PP_A_break)\n",
    "# combine data and indeces for pickling\n",
    "PP_A_data = [PP_A, PP_A_indeces]\n",
    "pickle.dump(PP_A_data, open('../Data/Li-Li/Data_2_21_19/PP_A_data.pickle', 'wb'))\n",
    "print(\"--- %s seconds ---\" % (time.time() - start_time))"
   ]
  },
  {
   "cell_type": "code",
   "execution_count": 37,
   "metadata": {},
   "outputs": [
    {
     "name": "stdout",
     "output_type": "stream",
     "text": [
      "Number of Cycles = 201\n",
      "--- 135.08213591575623 seconds ---\n"
     ]
    }
   ],
   "source": [
    "start_time = time.time()\n",
    "# imports and concatenates the data for a cell\n",
    "PP_B_0 = batt_cycle.import_data(folder + 'PP_B190130_002_6.xls', 5)\n",
    "# cleans and preps dataframes\n",
    "PP_B, PP_B_break = batt_cycle.clean_prep_break(PP_B_0)\n",
    "# reshapes the index data\n",
    "PP_B_indeces = batt_cycle.reshape_cycle_indeces(PP_B, PP_B_break)\n",
    "# combine data and indeces for pickling\n",
    "PP_B_data = [PP_B, PP_B_indeces]\n",
    "pickle.dump(PP_B_data, open('../Data/Li-Li/Data_2_21_19/PP_B_data.pickle', 'wb'))\n",
    "print(\"--- %s seconds ---\" % (time.time() - start_time))"
   ]
  },
  {
   "cell_type": "code",
   "execution_count": 38,
   "metadata": {},
   "outputs": [
    {
     "name": "stdout",
     "output_type": "stream",
     "text": [
      "Number of Cycles = 201\n",
      "--- 140.86208319664001 seconds ---\n"
     ]
    }
   ],
   "source": [
    "start_time = time.time()\n",
    "# imports and concatenates the data for a cell\n",
    "PEK_A_0 = batt_cycle.import_data(folder + 'PEK-A190130_002_8.xls', 5)\n",
    "# cleans and preps dataframes\n",
    "PEK_A, PEK_A_break = batt_cycle.clean_prep_break(PEK_A_0)\n",
    "# reshapes the index data\n",
    "PEK_A_indeces = batt_cycle.reshape_cycle_indeces(PEK_A, PEK_A_break)\n",
    "# combine data and indeces for pickling\n",
    "PEK_A_data = [PEK_A, PEK_A_indeces]\n",
    "pickle.dump(PEK_A_data, open('../Data/Li-Li/Data_2_21_19/PEK_A_data.pickle', 'wb'))\n",
    "print(\"--- %s seconds ---\" % (time.time() - start_time))"
   ]
  },
  {
   "cell_type": "code",
   "execution_count": 39,
   "metadata": {},
   "outputs": [
    {
     "name": "stdout",
     "output_type": "stream",
     "text": [
      "Number of Cycles = 201\n",
      "--- 136.73296403884888 seconds ---\n"
     ]
    }
   ],
   "source": [
    "start_time = time.time()\n",
    "# imports and concatenates the data for a cell\n",
    "PEK_B_0 = batt_cycle.import_data(folder + 'PEK-B190130_005_7.xls', 5)\n",
    "# cleans and preps dataframes\n",
    "PEK_B, PEK_B_break = batt_cycle.clean_prep_break(PEK_B_0)\n",
    "# reshapes the index data\n",
    "PEK_B_indeces = batt_cycle.reshape_cycle_indeces(PEK_B, PEK_B_break)\n",
    "# combine data and indeces for pickling\n",
    "PEK_B_data = [PEK_B, PEK_B_indeces]\n",
    "pickle.dump(PEK_B_data, open('../Data/Li-Li/Data_2_21_19/PEK_B_data.pickle', 'wb'))\n",
    "print(\"--- %s seconds ---\" % (time.time() - start_time))"
   ]
  },
  {
   "cell_type": "code",
   "execution_count": 40,
   "metadata": {},
   "outputs": [
    {
     "name": "stdout",
     "output_type": "stream",
     "text": [
      "Number of Cycles = 201\n",
      "--- 142.8859031200409 seconds ---\n"
     ]
    }
   ],
   "source": [
    "start_time = time.time()\n",
    "# imports and concatenates the data for a cell\n",
    "PEJ_A_0 = batt_cycle.import_data(folder + 'PEJ-A190130_007_4.xls', 5)\n",
    "# cleans and preps dataframes\n",
    "PEJ_A, PEJ_A_break = batt_cycle.clean_prep_break(PEJ_A_0)\n",
    "# reshapes the index data\n",
    "PEJ_A_indeces = batt_cycle.reshape_cycle_indeces(PEJ_A, PEJ_A_break)\n",
    "# combine data and indeces for pickling\n",
    "PEJ_A_data = [PEJ_A, PEJ_A_indeces]\n",
    "pickle.dump(PEJ_A_data, open('../Data/Li-Li/Data_2_21_19/PEJ_A_data.pickle', 'wb'))\n",
    "print(\"--- %s seconds ---\" % (time.time() - start_time))"
   ]
  },
  {
   "cell_type": "code",
   "execution_count": 41,
   "metadata": {},
   "outputs": [
    {
     "name": "stdout",
     "output_type": "stream",
     "text": [
      "Number of Cycles = 201\n",
      "--- 145.84037685394287 seconds ---\n"
     ]
    }
   ],
   "source": [
    "start_time = time.time()\n",
    "# imports and concatenates the data for a cell\n",
    "PEJ_B_0 = batt_cycle.import_data(folder + 'PEJ-B190130_007_5.xls', 5)\n",
    "# cleans and preps dataframes\n",
    "PEJ_B, PEJ_B_break = batt_cycle.clean_prep_break(PEJ_B_0)\n",
    "# reshapes the index data\n",
    "PEJ_B_indeces = batt_cycle.reshape_cycle_indeces(PEJ_B, PEJ_B_break)\n",
    "# combine data and indeces for pickling\n",
    "PEJ_B_data = [PEJ_B, PEJ_B_indeces]\n",
    "pickle.dump(PEJ_B_data, open('../Data/Li-Li/Data_2_21_19/PEJ_B_data.pickle', 'wb'))\n",
    "print(\"--- %s seconds ---\" % (time.time() - start_time))"
   ]
  },
  {
   "cell_type": "code",
   "execution_count": 42,
   "metadata": {},
   "outputs": [
    {
     "name": "stdout",
     "output_type": "stream",
     "text": [
      "Number of Cycles = 201\n",
      "--- 129.1352939605713 seconds ---\n"
     ]
    }
   ],
   "source": [
    "start_time = time.time()\n",
    "# imports and concatenates the data for a cell\n",
    "PI_A_0 = batt_cycle.import_data(folder + 'PI-A190130_007_6.xls', 5)\n",
    "# cleans and preps dataframes\n",
    "PI_A, PI_A_break = batt_cycle.clean_prep_break(PI_A_0)\n",
    "# reshapes the index data\n",
    "PI_A_indeces = batt_cycle.reshape_cycle_indeces(PI_A, PI_A_break)\n",
    "# combine data and indeces for pickling\n",
    "PI_A_data = [PI_A, PI_A_indeces]\n",
    "pickle.dump(PI_A_data, open('../Data/Li-Li/Data_2_21_19/PI_A_data.pickle', 'wb'))\n",
    "print(\"--- %s seconds ---\" % (time.time() - start_time))"
   ]
  },
  {
   "cell_type": "code",
   "execution_count": 43,
   "metadata": {},
   "outputs": [
    {
     "name": "stdout",
     "output_type": "stream",
     "text": [
      "Number of Cycles = 201\n",
      "--- 134.26782417297363 seconds ---\n"
     ]
    }
   ],
   "source": [
    "start_time = time.time()\n",
    "# imports and concatenates the data for a cell\n",
    "PI_B_0 = batt_cycle.import_data(folder + 'PI-B190130_007_8.xls', 5)\n",
    "# cleans and preps dataframes\n",
    "PI_B, PI_B_break = batt_cycle.clean_prep_break(PI_B_0)\n",
    "# reshapes the index data\n",
    "PI_B_indeces = batt_cycle.reshape_cycle_indeces(PI_B, PI_B_break)\n",
    "# combine data and indeces for pickling\n",
    "PI_B_data = [PI_B, PI_B_indeces]\n",
    "pickle.dump(PI_B_data, open('../Data/Li-Li/Data_2_21_19/PI_B_data.pickle', 'wb'))\n",
    "print(\"--- %s seconds ---\" % (time.time() - start_time))"
   ]
  },
  {
   "cell_type": "code",
   "execution_count": 44,
   "metadata": {},
   "outputs": [
    {
     "name": "stdout",
     "output_type": "stream",
     "text": [
      "Number of Cycles = 201\n",
      "--- 137.57018494606018 seconds ---\n"
     ]
    }
   ],
   "source": [
    "start_time = time.time()\n",
    "# imports and concatenates the data for a cell\n",
    "Ny_A_0 = batt_cycle.import_data(folder + 'Ny-A190130_008_1.xls', 5)\n",
    "# cleans and preps dataframes\n",
    "Ny_A, Ny_A_break = batt_cycle.clean_prep_break(Ny_A_0)\n",
    "# reshapes the index data\n",
    "Ny_A_indeces = batt_cycle.reshape_cycle_indeces(Ny_A, Ny_A_break)\n",
    "# combine data and indeces for pickling\n",
    "Ny_A_data = [Ny_A, Ny_A_indeces]\n",
    "pickle.dump(Ny_A_data, open('../Data/Li-Li/Data_2_21_19/Ny_A_data.pickle', 'wb'))\n",
    "print(\"--- %s seconds ---\" % (time.time() - start_time))"
   ]
  },
  {
   "cell_type": "code",
   "execution_count": 45,
   "metadata": {},
   "outputs": [
    {
     "name": "stdout",
     "output_type": "stream",
     "text": [
      "Number of Cycles = 201\n",
      "--- 140.25346517562866 seconds ---\n"
     ]
    }
   ],
   "source": [
    "start_time = time.time()\n",
    "# imports and concatenates the data for a cell\n",
    "Ny_B_0 = batt_cycle.import_data(folder + 'Ny-B190130_007_7.xls', 5)\n",
    "# cleans and preps dataframes\n",
    "Ny_B, Ny_B_break = batt_cycle.clean_prep_break(Ny_B_0)\n",
    "# reshapes the index data\n",
    "Ny_B_indeces = batt_cycle.reshape_cycle_indeces(Ny_B, Ny_B_break)\n",
    "# combine data and indeces for pickling\n",
    "Ny_B_data = [Ny_B, Ny_B_indeces]\n",
    "pickle.dump(Ny_B_data, open('../Data/Li-Li/Data_2_21_19/Ny_B_data.pickle', 'wb'))\n",
    "print(\"--- %s seconds ---\" % (time.time() - start_time))"
   ]
  }
 ],
 "metadata": {
  "kernelspec": {
   "display_name": "Python 3",
   "language": "python",
   "name": "python3"
  },
  "language_info": {
   "codemirror_mode": {
    "name": "ipython",
    "version": 3
   },
   "file_extension": ".py",
   "mimetype": "text/x-python",
   "name": "python",
   "nbconvert_exporter": "python",
   "pygments_lexer": "ipython3",
   "version": "3.7.1"
  }
 },
 "nbformat": 4,
 "nbformat_minor": 2
}
