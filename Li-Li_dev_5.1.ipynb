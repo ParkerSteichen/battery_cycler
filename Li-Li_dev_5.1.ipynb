{
 "cells": [
  {
   "cell_type": "code",
   "execution_count": 4,
   "metadata": {},
   "outputs": [],
   "source": [
    "import numpy as np\n",
    "import pandas as pd\n",
    "import matplotlib.pyplot as plt\n",
    "import pickle\n",
    "import time\n",
    "\n",
    "import batt_cycle"
   ]
  },
  {
   "cell_type": "code",
   "execution_count": 5,
   "metadata": {},
   "outputs": [],
   "source": [
    "# folder holding data of interest\n",
    "folder = '../Data/Li-Li/Data_3_15_19/'"
   ]
  },
  {
   "cell_type": "code",
   "execution_count": 6,
   "metadata": {},
   "outputs": [
    {
     "name": "stdout",
     "output_type": "stream",
     "text": [
      "Number of Cycles = 42\n",
      "--- 6.858899116516113 seconds ---\n"
     ]
    }
   ],
   "source": [
    "start_time = time.time()\n",
    "# imports and concatenates the data for a cell\n",
    "PP_A_0 = batt_cycle.import_data(folder + '_002_4.xls', 1)\n",
    "# cleans and preps dataframes\n",
    "PP_A, PP_A_break = batt_cycle.clean_prep_break(PP_A_0)\n",
    "# reshapes the index data\n",
    "PP_A_indeces = batt_cycle.reshape_cycle_indeces(PP_A, PP_A_break)\n",
    "# combine data and indeces for pickling\n",
    "PP_C_data = [PP_A, PP_A_indeces]\n",
    "pickle.dump(PP_C_data, open('../Data/Li-Li/Data_3_15_19/PP-C_data.pickle', 'wb'))\n",
    "print(\"--- %s seconds ---\" % (time.time() - start_time))"
   ]
  },
  {
   "cell_type": "code",
   "execution_count": 7,
   "metadata": {},
   "outputs": [
    {
     "name": "stdout",
     "output_type": "stream",
     "text": [
      "Number of Cycles = 42\n",
      "--- 6.670636177062988 seconds ---\n"
     ]
    }
   ],
   "source": [
    "start_time = time.time()\n",
    "# imports and concatenates the data for a cell\n",
    "PP_B_0 = batt_cycle.import_data(folder + '_002_6.xls', 1)\n",
    "# cleans and preps dataframes\n",
    "PP_B, PP_B_break = batt_cycle.clean_prep_break(PP_B_0)\n",
    "# reshapes the index data\n",
    "PP_B_indeces = batt_cycle.reshape_cycle_indeces(PP_B, PP_B_break)\n",
    "# combine data and indeces for pickling\n",
    "PP_D_data = [PP_B, PP_B_indeces]\n",
    "pickle.dump(PP_D_data, open('../Data/Li-Li/Data_3_15_19/PP-D_data.pickle', 'wb'))\n",
    "print(\"--- %s seconds ---\" % (time.time() - start_time))"
   ]
  },
  {
   "cell_type": "code",
   "execution_count": 8,
   "metadata": {},
   "outputs": [
    {
     "name": "stdout",
     "output_type": "stream",
     "text": [
      "Number of Cycles = 42\n",
      "--- 6.644363164901733 seconds ---\n"
     ]
    }
   ],
   "source": [
    "start_time = time.time()\n",
    "# imports and concatenates the data for a cell\n",
    "PEK_A_0 = batt_cycle.import_data(folder + '_003_2.xls', 1)\n",
    "# cleans and preps dataframes\n",
    "PEK_A, PEK_A_break = batt_cycle.clean_prep_break(PEK_A_0)\n",
    "# reshapes the index data\n",
    "PEK_A_indeces = batt_cycle.reshape_cycle_indeces(PEK_A, PEK_A_break)\n",
    "# combine data and indeces for pickling\n",
    "PEK_C_data = [PEK_A, PEK_A_indeces]\n",
    "pickle.dump(PEK_C_data, open('../Data/Li-Li/Data_3_15_19/PEK-C_data.pickle', 'wb'))\n",
    "print(\"--- %s seconds ---\" % (time.time() - start_time))"
   ]
  },
  {
   "cell_type": "code",
   "execution_count": 9,
   "metadata": {},
   "outputs": [
    {
     "name": "stdout",
     "output_type": "stream",
     "text": [
      "Number of Cycles = 42\n",
      "--- 6.871933937072754 seconds ---\n"
     ]
    }
   ],
   "source": [
    "start_time = time.time()\n",
    "# imports and concatenates the data for a cell\n",
    "PEK_B_0 = batt_cycle.import_data(folder + '_003_8.xls', 1)\n",
    "# cleans and preps dataframes\n",
    "PEK_B, PEK_B_break = batt_cycle.clean_prep_break(PEK_B_0)\n",
    "# reshapes the index data\n",
    "PEK_B_indeces = batt_cycle.reshape_cycle_indeces(PEK_B, PEK_B_break)\n",
    "# combine data and indeces for pickling\n",
    "PEK_D_data = [PEK_B, PEK_B_indeces]\n",
    "pickle.dump(PEK_D_data, open('../Data/Li-Li/Data_3_15_19/PEK-D_data.pickle', 'wb'))\n",
    "print(\"--- %s seconds ---\" % (time.time() - start_time))"
   ]
  },
  {
   "cell_type": "code",
   "execution_count": 10,
   "metadata": {},
   "outputs": [
    {
     "name": "stdout",
     "output_type": "stream",
     "text": [
      "Number of Cycles = 42\n",
      "--- 6.729593753814697 seconds ---\n"
     ]
    }
   ],
   "source": [
    "start_time = time.time()\n",
    "# imports and concatenates the data for a cell\n",
    "PEJ_A_0 = batt_cycle.import_data(folder + '_004_1.xls', 1)\n",
    "# cleans and preps dataframes\n",
    "PEJ_A, PEJ_A_break = batt_cycle.clean_prep_break(PEJ_A_0)\n",
    "# reshapes the index data\n",
    "PEJ_A_indeces = batt_cycle.reshape_cycle_indeces(PEJ_A, PEJ_A_break)\n",
    "# combine data and indeces for pickling\n",
    "PEJ_C_data = [PEJ_A, PEJ_A_indeces]\n",
    "pickle.dump(PEJ_C_data, open('../Data/Li-Li/Data_3_15_19/PEJ-C_data.pickle', 'wb'))\n",
    "print(\"--- %s seconds ---\" % (time.time() - start_time))"
   ]
  },
  {
   "cell_type": "code",
   "execution_count": 11,
   "metadata": {},
   "outputs": [
    {
     "name": "stdout",
     "output_type": "stream",
     "text": [
      "Number of Cycles = 42\n",
      "--- 6.642056941986084 seconds ---\n"
     ]
    }
   ],
   "source": [
    "start_time = time.time()\n",
    "# imports and concatenates the data for a cell\n",
    "PEJ_B_0 = batt_cycle.import_data(folder + '_005_6.xls', 1)\n",
    "# cleans and preps dataframes\n",
    "PEJ_B, PEJ_B_break = batt_cycle.clean_prep_break(PEJ_B_0)\n",
    "# reshapes the index data\n",
    "PEJ_B_indeces = batt_cycle.reshape_cycle_indeces(PEJ_B, PEJ_B_break)\n",
    "# combine data and indeces for pickling\n",
    "PEJ_D_data = [PEJ_B, PEJ_B_indeces]\n",
    "pickle.dump(PEJ_D_data, open('../Data/Li-Li/Data_3_15_19/PEJ-D_data.pickle', 'wb'))\n",
    "print(\"--- %s seconds ---\" % (time.time() - start_time))"
   ]
  },
  {
   "cell_type": "code",
   "execution_count": 12,
   "metadata": {},
   "outputs": [
    {
     "name": "stdout",
     "output_type": "stream",
     "text": [
      "Number of Cycles = 42\n",
      "--- 6.663068056106567 seconds ---\n"
     ]
    }
   ],
   "source": [
    "start_time = time.time()\n",
    "# imports and concatenates the data for a cell\n",
    "PI_A_0 = batt_cycle.import_data(folder + '_007_8.xls', 1)\n",
    "# cleans and preps dataframes\n",
    "PI_A, PI_A_break = batt_cycle.clean_prep_break(PI_A_0)\n",
    "# reshapes the index data\n",
    "PI_A_indeces = batt_cycle.reshape_cycle_indeces(PI_A, PI_A_break)\n",
    "# combine data and indeces for pickling\n",
    "PI_C_data = [PI_A, PI_A_indeces]\n",
    "pickle.dump(PI_C_data, open('../Data/Li-Li/Data_3_15_19/PI-C_data.pickle', 'wb'))\n",
    "print(\"--- %s seconds ---\" % (time.time() - start_time))"
   ]
  },
  {
   "cell_type": "code",
   "execution_count": 13,
   "metadata": {},
   "outputs": [
    {
     "name": "stdout",
     "output_type": "stream",
     "text": [
      "Number of Cycles = 42\n",
      "--- 6.738886117935181 seconds ---\n"
     ]
    }
   ],
   "source": [
    "start_time = time.time()\n",
    "# imports and concatenates the data for a cell\n",
    "PI_B_0 = batt_cycle.import_data(folder + '_008_1.xls', 1)\n",
    "# cleans and preps dataframes\n",
    "PI_B, PI_B_break = batt_cycle.clean_prep_break(PI_B_0)\n",
    "# reshapes the index data\n",
    "PI_B_indeces = batt_cycle.reshape_cycle_indeces(PI_B, PI_B_break)\n",
    "# combine data and indeces for pickling\n",
    "PI_D_data = [PI_B, PI_B_indeces]\n",
    "pickle.dump(PI_D_data, open('../Data/Li-Li/Data_3_15_19/PI-D_data.pickle', 'wb'))\n",
    "print(\"--- %s seconds ---\" % (time.time() - start_time))"
   ]
  },
  {
   "cell_type": "code",
   "execution_count": 14,
   "metadata": {},
   "outputs": [
    {
     "name": "stdout",
     "output_type": "stream",
     "text": [
      "Number of Cycles = 42\n",
      "--- 7.210423946380615 seconds ---\n"
     ]
    }
   ],
   "source": [
    "start_time = time.time()\n",
    "# imports and concatenates the data for a cell\n",
    "Ny_A_0 = batt_cycle.import_data(folder + '_008_3.xls', 1)\n",
    "# cleans and preps dataframes\n",
    "Ny_A, Ny_A_break = batt_cycle.clean_prep_break(Ny_A_0)\n",
    "# reshapes the index data\n",
    "Ny_A_indeces = batt_cycle.reshape_cycle_indeces(Ny_A, Ny_A_break)\n",
    "# combine data and indeces for pickling\n",
    "Ny_C_data = [Ny_A, Ny_A_indeces]\n",
    "pickle.dump(Ny_C_data, open('../Data/Li-Li/Data_3_15_19/Ny-C_data.pickle', 'wb'))\n",
    "print(\"--- %s seconds ---\" % (time.time() - start_time))"
   ]
  },
  {
   "cell_type": "code",
   "execution_count": 15,
   "metadata": {},
   "outputs": [
    {
     "name": "stdout",
     "output_type": "stream",
     "text": [
      "Number of Cycles = 42\n",
      "--- 6.588219165802002 seconds ---\n"
     ]
    }
   ],
   "source": [
    "start_time = time.time()\n",
    "# imports and concatenates the data for a cell\n",
    "Ny_B_0 = batt_cycle.import_data(folder + '_008_4.xls', 1)\n",
    "# cleans and preps dataframes\n",
    "Ny_B, Ny_B_break = batt_cycle.clean_prep_break(Ny_B_0)\n",
    "# reshapes the index data\n",
    "Ny_B_indeces = batt_cycle.reshape_cycle_indeces(Ny_B, Ny_B_break)\n",
    "# combine data and indeces for pickling\n",
    "Ny_D_data = [Ny_B, Ny_B_indeces]\n",
    "pickle.dump(Ny_D_data, open('../Data/Li-Li/Data_3_15_19/Ny-D_data.pickle', 'wb'))\n",
    "print(\"--- %s seconds ---\" % (time.time() - start_time))"
   ]
  }
 ],
 "metadata": {
  "kernelspec": {
   "display_name": "Python 3",
   "language": "python",
   "name": "python3"
  },
  "language_info": {
   "codemirror_mode": {
    "name": "ipython",
    "version": 3
   },
   "file_extension": ".py",
   "mimetype": "text/x-python",
   "name": "python",
   "nbconvert_exporter": "python",
   "pygments_lexer": "ipython3",
   "version": "3.7.1"
  }
 },
 "nbformat": 4,
 "nbformat_minor": 2
}
