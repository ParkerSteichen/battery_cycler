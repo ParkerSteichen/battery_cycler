{
 "cells": [
  {
   "cell_type": "code",
   "execution_count": 22,
   "metadata": {},
   "outputs": [],
   "source": [
    "import numpy as np\n",
    "import pandas as pd\n",
    "import matplotlib.pyplot as plt\n",
    "\n",
    "import batt_cycle"
   ]
  },
  {
   "cell_type": "markdown",
   "metadata": {},
   "source": [
    "Goal: Develop a function that break the cycle indeces up appropriately such that charge/discharge data are appropriately paired\n",
    "\n",
    "def pull_cycle(cycle_num, cycle_indeces, df_break):  \n",
    "&nbsp;&nbsp;&nbsp;&nbsp; pairs up charge/discharge so that calling cycle 1 give charge+discharge1  \n",
    "&nbsp;&nbsp;&nbsp;&nbsp; return list where each index is two lists containing data indeces\n",
    "    "
   ]
  },
  {
   "cell_type": "code",
   "execution_count": 23,
   "metadata": {},
   "outputs": [],
   "source": [
    "# folder holding data of interest\n",
    "folder = '../Data/Li-Li/Data_2_7_19/'\n",
    "\n",
    "# imports and concatenates the data for each of the 10 symmetric cells\n",
    "PP_A_0 = batt_cycle.import_data(folder + '_002_4_nodrop.xls', 3)\n",
    "# cleans and preps dataframes for plotting\n",
    "PP_A, PP_A_break = batt_cycle.clean_prep_break(PP_A_0)"
   ]
  },
  {
   "cell_type": "code",
   "execution_count": 24,
   "metadata": {},
   "outputs": [
    {
     "data": {
      "text/plain": [
       "[<matplotlib.lines.Line2D at 0x124034748>]"
      ]
     },
     "execution_count": 24,
     "metadata": {},
     "output_type": "execute_result"
    },
    {
     "data": {
      "image/png": "[encoded data removed]",
      "text/plain": [
       "<Figure size 432x288 with 1 Axes>"
      ]
     },
     "metadata": {
      "needs_background": "light"
     },
     "output_type": "display_data"
    }
   ],
   "source": [
    "cycle_indeces = batt_cycle.return_cycle_indeces(2, PP_A_break)\n",
    "\n",
    "cycle_data = PP_A[PP_A.index.isin(cycle_indeces)]\n",
    "plt.plot(cycle_data['time_sec'], cycle_data['voltage'])"
   ]
  },
  {
   "cell_type": "code",
   "execution_count": 25,
   "metadata": {},
   "outputs": [],
   "source": [
    "def return_cycle_indeces_v2(df_break):\n",
    "    \"\"\"docstring\"\"\"\n",
    "    cycle_data = []\n",
    "    start = df_break[cycle - 1] + 2\n",
    "    end = df_break[cycle] - 1\n",
    "    cycle_index = np.arange(start, end)\n",
    "    return cycle_index"
   ]
  },
  {
   "cell_type": "code",
   "execution_count": 44,
   "metadata": {},
   "outputs": [],
   "source": [
    "df = PP_A\n",
    "df_break = PP_A_break\n",
    "rest = True\n",
    "\n",
    "cycle_indeces = []\n",
    "# saves rest data as index[0], if no rest saves None\n",
    "if rest == True:\n",
    "    start = df_break[0] + 2\n",
    "    end = df_break[1] - 1\n",
    "    rest_index = np.arange(start, end)\n",
    "    cycle_indeces.append(rest_index)\n",
    "    num_cycles = len(df_break)//2\n",
    "    if len(df_break) % 2 == 0:\n",
    "        drop_partial = True\n",
    "    elif len(df_break) % 2 != 0:\n",
    "        drop_partial = False\n",
    "    if drop_partial == True:\n",
    "        for i in np.arange(1, len(df_break)-1, 2):\n",
    "            charge_start = df_break[i]+2\n",
    "            charge_end = df_break[i+1]-1\n",
    "            charge_index = np.arange(charge_start, charge_end)\n",
    "            discharge_start = df_break[i+1]+2\n",
    "            discharge_end = df_break[i+2]-1\n",
    "            discharge_index = np.arange(discharge_start, discharge_end)\n",
    "            full_cycle_index = [charge_index, discharge_index]\n",
    "            cycle_indeces.append(full_cycle_index)\n",
    "    elif drop_partial == False:\n",
    "        for i in np.arange(1, len(df_break)-3, 2):\n",
    "            charge_start = df_break[i]+2\n",
    "            charge_end = df_break[i+1]-1\n",
    "            charge_index = np.arange(charge_start, charge_end)\n",
    "            discharge_start = df_break[i+1]+2\n",
    "            discharge_end = df_break[i+2]-1\n",
    "            discharge_index = np.arange(discharge_start, discharge_end)\n",
    "            full_cycle_index = [charge_index, discharge_index]\n",
    "            cycle_indeces.append(full_cycle_index)\n",
    "        i = len(df_break)-2\n",
    "        charge_start = df_break[i]+2\n",
    "        charge_end = df_break[i+1]-1\n",
    "        charge_index = np.arange(charge_start, charge_end)\n",
    "        discharge_start = df_break[i+1]+2\n",
    "        discharge_end = df.index[-1]\n",
    "        discharge_index = np.arange(discharge_start, discharge_end)\n",
    "        full_cycle_index = [charge_index, discharge_index]\n",
    "        cycle_indeces.append(full_cycle_index)\n",
    "elif rest == False:\n",
    "    cycle_indeces.append('No Rest')\n",
    "    num_cycles = len(df_break)//2\n",
    "    if len(df_break) % 2 == 0:\n",
    "        drop_partial = False\n",
    "    elif len(df_break) % 2 != 0:\n",
    "        drop_partial = True\n",
    "    pass\n",
    "\n",
    "\n"
   ]
  },
  {
   "cell_type": "code",
   "execution_count": 45,
   "metadata": {},
   "outputs": [
    {
     "name": "stdout",
     "output_type": "stream",
     "text": [
      "num_cycle = 96\n",
      "rest = True\n",
      "drop_partial = False\n",
      "len(cycle_indeces) = 97\n"
     ]
    },
    {
     "data": {
      "text/plain": [
       "array([138701, 138702, 138703, 138704, 138705, 138706, 138707, 138708,\n",
       "       138709, 138710, 138711, 138712, 138713, 138714, 138715, 138716,\n",
       "       138717, 138718, 138719, 138720, 138721, 138722, 138723, 138724,\n",
       "       138725, 138726, 138727, 138728, 138729, 138730, 138731, 138732,\n",
       "       138733, 138734, 138735, 138736, 138737, 138738, 138739, 138740,\n",
       "       138741, 138742, 138743, 138744, 138745, 138746, 138747, 138748,\n",
       "       138749, 138750, 138751, 138752, 138753, 138754, 138755, 138756,\n",
       "       138757, 138758, 138759, 138760, 138761, 138762, 138763, 138764,\n",
       "       138765, 138766, 138767, 138768, 138769, 138770, 138771, 138772,\n",
       "       138773, 138774, 138775, 138776, 138777, 138778, 138779, 138780,\n",
       "       138781, 138782, 138783, 138784, 138785, 138786, 138787, 138788,\n",
       "       138789, 138790, 138791, 138792, 138793, 138794, 138795, 138796,\n",
       "       138797, 138798, 138799, 138800, 138801, 138802, 138803, 138804,\n",
       "       138805, 138806, 138807, 138808, 138809, 138810, 138811, 138812,\n",
       "       138813, 138814, 138815, 138816, 138817, 138818, 138819, 138820,\n",
       "       138821, 138822, 138823, 138824, 138825, 138826, 138827, 138828,\n",
       "       138829, 138830, 138831, 138832, 138833, 138834, 138835, 138836,\n",
       "       138837, 138838, 138839, 138840, 138841, 138842, 138843, 138844,\n",
       "       138845, 138846, 138847, 138848, 138849, 138850, 138851, 138852,\n",
       "       138853, 138854, 138855, 138856, 138857, 138858, 138859, 138860,\n",
       "       138861, 138862, 138863, 138864, 138865, 138866, 138867, 138868,\n",
       "       138869, 138870, 138871, 138872, 138873, 138874, 138875, 138876,\n",
       "       138877, 138878, 138879, 138880, 138881, 138882, 138883, 138884,\n",
       "       138885, 138886, 138887, 138888, 138889, 138890, 138891, 138892,\n",
       "       138893, 138894, 138895, 138896, 138897, 138898, 138899, 138900,\n",
       "       138901, 138902, 138903, 138904, 138905, 138906, 138907, 138908,\n",
       "       138909, 138910, 138911, 138912, 138913, 138914, 138915, 138916,\n",
       "       138917, 138918, 138919, 138920, 138921, 138922, 138923, 138924,\n",
       "       138925, 138926, 138927, 138928, 138929, 138930, 138931, 138932,\n",
       "       138933, 138934, 138935, 138936, 138937, 138938, 138939, 138940,\n",
       "       138941, 138942, 138943, 138944, 138945, 138946, 138947, 138948,\n",
       "       138949, 138950, 138951, 138952, 138953, 138954, 138955, 138956,\n",
       "       138957, 138958, 138959, 138960, 138961, 138962, 138963, 138964,\n",
       "       138965, 138966, 138967, 138968, 138969, 138970, 138971, 138972,\n",
       "       138973, 138974, 138975, 138976, 138977, 138978, 138979, 138980,\n",
       "       138981, 138982, 138983, 138984, 138985, 138986, 138987, 138988,\n",
       "       138989, 138990, 138991, 138992, 138993, 138994, 138995, 138996,\n",
       "       138997, 138998, 138999, 139000, 139001, 139002, 139003, 139004,\n",
       "       139005, 139006, 139007, 139008, 139009, 139010, 139011, 139012,\n",
       "       139013, 139014, 139015, 139016, 139017, 139018, 139019, 139020,\n",
       "       139021, 139022, 139023, 139024, 139025, 139026, 139027, 139028,\n",
       "       139029, 139030, 139031, 139032, 139033, 139034, 139035, 139036,\n",
       "       139037, 139038, 139039, 139040, 139041, 139042, 139043, 139044,\n",
       "       139045, 139046, 139047, 139048, 139049, 139050, 139051, 139052,\n",
       "       139053, 139054, 139055, 139056, 139057, 139058, 139059, 139060,\n",
       "       139061, 139062, 139063, 139064, 139065, 139066, 139067, 139068,\n",
       "       139069, 139070, 139071, 139072, 139073, 139074, 139075, 139076,\n",
       "       139077, 139078, 139079, 139080, 139081, 139082, 139083, 139084,\n",
       "       139085, 139086, 139087, 139088, 139089, 139090, 139091, 139092,\n",
       "       139093, 139094, 139095, 139096, 139097, 139098, 139099, 139100,\n",
       "       139101, 139102, 139103, 139104, 139105, 139106, 139107, 139108,\n",
       "       139109, 139110, 139111, 139112, 139113, 139114, 139115, 139116,\n",
       "       139117, 139118, 139119, 139120, 139121, 139122, 139123, 139124,\n",
       "       139125, 139126, 139127, 139128, 139129, 139130, 139131, 139132,\n",
       "       139133, 139134, 139135, 139136, 139137, 139138, 139139, 139140,\n",
       "       139141, 139142, 139143, 139144, 139145, 139146, 139147, 139148,\n",
       "       139149, 139150, 139151, 139152, 139153, 139154, 139155, 139156,\n",
       "       139157, 139158, 139159, 139160, 139161, 139162, 139163, 139164,\n",
       "       139165, 139166, 139167, 139168, 139169, 139170, 139171, 139172,\n",
       "       139173, 139174, 139175, 139176, 139177, 139178, 139179, 139180,\n",
       "       139181, 139182, 139183, 139184, 139185, 139186, 139187, 139188,\n",
       "       139189, 139190, 139191, 139192, 139193, 139194, 139195, 139196,\n",
       "       139197, 139198, 139199, 139200, 139201, 139202, 139203, 139204,\n",
       "       139205, 139206, 139207, 139208, 139209, 139210, 139211, 139212,\n",
       "       139213, 139214, 139215, 139216, 139217, 139218, 139219, 139220,\n",
       "       139221, 139222, 139223, 139224, 139225, 139226, 139227, 139228,\n",
       "       139229, 139230, 139231, 139232, 139233, 139234, 139235, 139236,\n",
       "       139237, 139238, 139239, 139240, 139241, 139242, 139243, 139244,\n",
       "       139245, 139246, 139247, 139248, 139249, 139250, 139251, 139252,\n",
       "       139253, 139254, 139255, 139256, 139257, 139258, 139259, 139260,\n",
       "       139261, 139262, 139263, 139264, 139265, 139266, 139267, 139268,\n",
       "       139269, 139270, 139271, 139272, 139273, 139274, 139275, 139276,\n",
       "       139277, 139278, 139279, 139280, 139281, 139282, 139283, 139284,\n",
       "       139285, 139286, 139287, 139288, 139289, 139290, 139291, 139292,\n",
       "       139293, 139294, 139295, 139296, 139297, 139298, 139299, 139300,\n",
       "       139301, 139302, 139303, 139304, 139305, 139306, 139307, 139308,\n",
       "       139309, 139310, 139311, 139312, 139313, 139314, 139315, 139316,\n",
       "       139317, 139318, 139319, 139320, 139321, 139322, 139323, 139324,\n",
       "       139325, 139326, 139327, 139328, 139329, 139330, 139331, 139332,\n",
       "       139333, 139334, 139335, 139336, 139337, 139338, 139339, 139340,\n",
       "       139341, 139342, 139343, 139344, 139345, 139346, 139347, 139348,\n",
       "       139349, 139350, 139351, 139352, 139353, 139354, 139355, 139356,\n",
       "       139357, 139358, 139359, 139360, 139361, 139362, 139363, 139364,\n",
       "       139365, 139366, 139367, 139368, 139369, 139370, 139371, 139372,\n",
       "       139373, 139374, 139375, 139376, 139377, 139378, 139379, 139380,\n",
       "       139381, 139382, 139383, 139384, 139385, 139386, 139387, 139388,\n",
       "       139389, 139390, 139391, 139392, 139393, 139394, 139395, 139396,\n",
       "       139397, 139398, 139399, 139400, 139401, 139402, 139403, 139404,\n",
       "       139405, 139406, 139407, 139408, 139409, 139410, 139411, 139412,\n",
       "       139413, 139414, 139415, 139416, 139417, 139418, 139419, 139420])"
      ]
     },
     "execution_count": 45,
     "metadata": {},
     "output_type": "execute_result"
    }
   ],
   "source": [
    "print('num_cycle = {}'.format(num_cycles))\n",
    "print('rest = {}'.format(rest))\n",
    "print('drop_partial = {}'.format(drop_partial))\n",
    "print('len(cycle_indeces) = {}'.format(len(cycle_indeces)))\n",
    "cycle_indeces[96][1]"
   ]
  },
  {
   "cell_type": "code",
   "execution_count": 71,
   "metadata": {},
   "outputs": [
    {
     "data": {
      "text/plain": [
       "[<matplotlib.lines.Line2D at 0x1250f4668>]"
      ]
     },
     "execution_count": 71,
     "metadata": {},
     "output_type": "execute_result"
    },
    {
     "data": {
      "image/png": "[encoded data removed]",
      "text/plain": [
       "<Figure size 432x288 with 1 Axes>"
      ]
     },
     "metadata": {
      "needs_background": "light"
     },
     "output_type": "display_data"
    }
   ],
   "source": [
    "cycle_data = PP_A[PP_A.index.isin(cycle_indeces[10][0])]\n",
    "plt.plot(cycle_data['time_sec'], cycle_data['voltage'])\n"
   ]
  },
  {
   "cell_type": "code",
   "execution_count": 29,
   "metadata": {},
   "outputs": [
    {
     "data": {
      "text/plain": [
       "193"
      ]
     },
     "execution_count": 29,
     "metadata": {},
     "output_type": "execute_result"
    }
   ],
   "source": [
    "len(df_break)"
   ]
  },
  {
   "cell_type": "code",
   "execution_count": 72,
   "metadata": {},
   "outputs": [
    {
     "data": {
      "text/plain": [
       "pandas.core.frame.DataFrame"
      ]
     },
     "execution_count": 72,
     "metadata": {},
     "output_type": "execute_result"
    }
   ],
   "source": [
    "type(cycle_data)"
   ]
  },
  {
   "cell_type": "code",
   "execution_count": 76,
   "metadata": {},
   "outputs": [],
   "source": [
    "# convert to function\n",
    "\n",
    "def reshape_cycle_indeces(df, df_break, rest=True):\n",
    "    \"\"\"\n",
    "    function that reshapes the outputs of clean_prep_break\n",
    "    Inputs:\n",
    "    Returns:\n",
    "        cylce_indeces, a reshaped dataframe where each cycle is callable\n",
    "        by cycle number (example: for the 2nd cycle, the charge indeces\n",
    "        for the cycle is at cycle_indeces[2][0], and the discharge data\n",
    "        is at cycle_indeces[2][1])\n",
    "    \"\"\"\n",
    "    cycle_indeces = []\n",
    "    # saves rest data as index[0], if no rest saves None\n",
    "    if rest == True:\n",
    "        start = df_break[0] + 2\n",
    "        end = df_break[1] - 1\n",
    "        rest_index = np.arange(start, end)\n",
    "        cycle_indeces.append(rest_index)\n",
    "        num_cycles = len(df_break)//2\n",
    "        if len(df_break) % 2 == 0:\n",
    "            drop_partial = True\n",
    "        elif len(df_break) % 2 != 0:\n",
    "            drop_partial = False\n",
    "        if drop_partial == True:\n",
    "            for i in np.arange(1, len(df_break)-1, 2):\n",
    "                charge_start = df_break[i]+2\n",
    "                charge_end = df_break[i+1]-1\n",
    "                charge_index = np.arange(charge_start, charge_end)\n",
    "                discharge_start = df_break[i+1]+2\n",
    "                discharge_end = df_break[i+2]-1\n",
    "                discharge_index = np.arange(discharge_start, discharge_end)\n",
    "                full_cycle_index = [charge_index, discharge_index]\n",
    "                cycle_indeces.append(full_cycle_index)\n",
    "        elif drop_partial == False:\n",
    "            for i in np.arange(1, len(df_break)-3, 2):\n",
    "                charge_start = df_break[i]+2\n",
    "                charge_end = df_break[i+1]-1\n",
    "                charge_index = np.arange(charge_start, charge_end)\n",
    "                discharge_start = df_break[i+1]+2\n",
    "                discharge_end = df_break[i+2]-1\n",
    "                discharge_index = np.arange(discharge_start, discharge_end)\n",
    "                full_cycle_index = [charge_index, discharge_index]\n",
    "                cycle_indeces.append(full_cycle_index)\n",
    "            i = len(df_break)-2\n",
    "            charge_start = df_break[i]+2\n",
    "            charge_end = df_break[i+1]-1\n",
    "            charge_index = np.arange(charge_start, charge_end)\n",
    "            discharge_start = df_break[i+1]+2\n",
    "            discharge_end = df.index[-1]\n",
    "            discharge_index = np.arange(discharge_start, discharge_end)\n",
    "            full_cycle_index = [charge_index, discharge_index]\n",
    "            cycle_indeces.append(full_cycle_index)\n",
    "    elif rest == False:\n",
    "        cycle_indeces.append('No Rest')\n",
    "#         num_cycles = len(df_break)//2\n",
    "#         if len(df_break) % 2 == 0:\n",
    "#             drop_partial = False\n",
    "#         elif len(df_break) % 2 != 0:\n",
    "#             drop_partial = True\n",
    "        print(\"\"\"feature not currently supported,\n",
    "              data must have rest period before first cycle\"\"\")\n",
    "    return cycle_indeces\n",
    "\n"
   ]
  },
  {
   "cell_type": "code",
   "execution_count": 78,
   "metadata": {},
   "outputs": [],
   "source": [
    "df = PP_A\n",
    "df_break = PP_A_break\n",
    "\n",
    "plot_indeces = reshape_cycle_indeces(df, df_break, rest=True)"
   ]
  },
  {
   "cell_type": "code",
   "execution_count": 79,
   "metadata": {},
   "outputs": [
    {
     "data": {
      "text/plain": [
       "[<matplotlib.lines.Line2D at 0x1246739b0>]"
      ]
     },
     "execution_count": 79,
     "metadata": {},
     "output_type": "execute_result"
    },
    {
     "data": {
      "image/png": "[encoded data removed]",
      "text/plain": [
       "<Figure size 432x288 with 1 Axes>"
      ]
     },
     "metadata": {
      "needs_background": "light"
     },
     "output_type": "display_data"
    }
   ],
   "source": [
    "plot_data = df[df.index.isin(plot_indeces[10][0])]\n",
    "plt.plot(plot_data['time_sec'], plot_data['voltage'])"
   ]
  },
  {
   "cell_type": "code",
   "execution_count": null,
   "metadata": {},
   "outputs": [],
   "source": []
  }
 ],
 "metadata": {
  "kernelspec": {
   "display_name": "Python 3",
   "language": "python",
   "name": "python3"
  },
  "language_info": {
   "codemirror_mode": {
    "name": "ipython",
    "version": 3
   },
   "file_extension": ".py",
   "mimetype": "text/x-python",
   "name": "python",
   "nbconvert_exporter": "python",
   "pygments_lexer": "ipython3",
   "version": "3.7.1"
  }
 },
 "nbformat": 4,
 "nbformat_minor": 2
}
