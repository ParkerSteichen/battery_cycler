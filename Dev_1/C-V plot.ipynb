{
 "cells": [
  {
   "cell_type": "code",
   "execution_count": 1,
   "metadata": {},
   "outputs": [],
   "source": [
    "import numpy as np\n",
    "import pandas as pd\n",
    "import matplotlib.pyplot as plt\n",
    "import pickle\n",
    "import time\n",
    "\n",
    "import batt_cycle"
   ]
  },
  {
   "cell_type": "code",
   "execution_count": 2,
   "metadata": {},
   "outputs": [
    {
     "name": "stdout",
     "output_type": "stream",
     "text": [
      "Number of Cycles = 16\n",
      "--- 13.163721084594727 seconds ---\n"
     ]
    }
   ],
   "source": [
    "# import and clean data\n",
    "start_time = time.time()\n",
    "raw_data = '../Data/LSB/5_29_19/6_7_19/_005_3.xls'\n",
    "# imports and concatenates the data for a cell\n",
    "PEO_PVDF_A_0 = batt_cycle.import_data(raw_data, 2)\n",
    "# cleans and preps dataframes\n",
    "PEO_PVDF_A, PEO_PVDF_A_break = batt_cycle.clean_prep_break_batt(PEO_PVDF_A_0)\n",
    "# reshapes the index data\n",
    "PEO_PVDF_A_indeces = batt_cycle.reshape_cycle_indeces(PEO_PVDF_A, PEO_PVDF_A_break)\n",
    "# combine data and indeces for pickling\n",
    "PEO_PVDF_A_data = [PEO_PVDF_A, PEO_PVDF_A_indeces]\n",
    "pickle.dump(PEO_PVDF_A_data, open('../Data/LSB/5_29_19/6_7_19/PEO_PVDF_A_data.pickle', 'wb'))\n",
    "print(\"--- %s seconds ---\" % (time.time() - start_time))"
   ]
  },
  {
   "cell_type": "code",
   "execution_count": 3,
   "metadata": {},
   "outputs": [
    {
     "name": "stdout",
     "output_type": "stream",
     "text": [
      "Number of Cycles = 17\n",
      "--- 13.164868116378784 seconds ---\n"
     ]
    }
   ],
   "source": [
    "# import and clean data\n",
    "start_time = time.time()\n",
    "raw_data = '../Data/LSB/5_29_19/6_7_19/_007_6.xls'\n",
    "# imports and concatenates the data for a cell\n",
    "PEO_PVDF_B_0 = batt_cycle.import_data(raw_data, 2)\n",
    "# cleans and preps dataframes\n",
    "PEO_PVDF_B, PEO_PVDF_B_break = batt_cycle.clean_prep_break_batt(PEO_PVDF_B_0)\n",
    "# reshapes the index data\n",
    "PEO_PVDF_B_indeces = batt_cycle.reshape_cycle_indeces(PEO_PVDF_B, PEO_PVDF_B_break)\n",
    "# combine data and indeces for pickling\n",
    "PEO_PVDF_B_data = [PEO_PVDF_B, PEO_PVDF_B_indeces]\n",
    "pickle.dump(PEO_PVDF_B_data, open('../Data/LSB/5_29_19/6_7_19/PEO_PVDF_B_data.pickle', 'wb'))\n",
    "print(\"--- %s seconds ---\" % (time.time() - start_time))"
   ]
  },
  {
   "cell_type": "code",
   "execution_count": 4,
   "metadata": {},
   "outputs": [
    {
     "name": "stdout",
     "output_type": "stream",
     "text": [
      "Number of Cycles = 16\n",
      "--- 13.565129041671753 seconds ---\n"
     ]
    }
   ],
   "source": [
    "# import and clean data\n",
    "start_time = time.time()\n",
    "raw_data = '../Data/LSB/5_29_19/6_7_19/_007_7.xls'\n",
    "# imports and concatenates the data for a cell\n",
    "PENDI_A_0 = batt_cycle.import_data(raw_data, 2)\n",
    "# cleans and preps dataframes\n",
    "PENDI_A, PENDI_A_break = batt_cycle.clean_prep_break_batt(PENDI_A_0)\n",
    "# reshapes the index data\n",
    "PENDI_A_indeces = batt_cycle.reshape_cycle_indeces(PENDI_A, PENDI_A_break)\n",
    "# combine data and indeces for pickling\n",
    "PENDI_A_data = [PENDI_A, PENDI_A_indeces]\n",
    "pickle.dump(PENDI_A_data, open('../Data/LSB/5_29_19/6_7_19/PENDI_A_data.pickle', 'wb'))\n",
    "print(\"--- %s seconds ---\" % (time.time() - start_time))"
   ]
  },
  {
   "cell_type": "code",
   "execution_count": 11,
   "metadata": {},
   "outputs": [
    {
     "name": "stdout",
     "output_type": "stream",
     "text": [
      "Number of Cycles = 16\n",
      "--- 13.382732152938843 seconds ---\n"
     ]
    }
   ],
   "source": [
    "# import and clean data\n",
    "start_time = time.time()\n",
    "raw_data = '../Data/LSB/5_29_19/6_7_19/_007_8.xls'\n",
    "# imports and concatenates the data for a cell\n",
    "PENDI_B_0 = batt_cycle.import_data(raw_data, 2)\n",
    "# cleans and preps dataframes\n",
    "PENDI_B, PENDI_B_break = batt_cycle.clean_prep_break_batt(PENDI_B_0)\n",
    "# reshapes the index data\n",
    "PENDI_B_indeces = batt_cycle.reshape_cycle_indeces(PENDI_B, PENDI_B_break)\n",
    "# combine data and indeces for pickling\n",
    "PENDI_B_data = [PENDI_B, PENDI_B_indeces]\n",
    "pickle.dump(PENDI_B_data, open('../Data/LSB/5_29_19/6_7_19/PENDI_B_data.pickle', 'wb'))\n",
    "print(\"--- %s seconds ---\" % (time.time() - start_time))"
   ]
  },
  {
   "cell_type": "code",
   "execution_count": 17,
   "metadata": {},
   "outputs": [
    {
     "name": "stdout",
     "output_type": "stream",
     "text": [
      "Number of Cycles = 33\n",
      "--- 38.25739789009094 seconds ---\n"
     ]
    }
   ],
   "source": [
    "# import and clean data\n",
    "start_time = time.time()\n",
    "raw_data = '../Data/LSB/5_29_19/6_7_19/_006_6.xls'\n",
    "# imports and concatenates the data for a cell\n",
    "PP_A_0 = batt_cycle.import_data(raw_data, 3)\n",
    "# cleans and preps dataframes\n",
    "PP_A, PP_A_break = batt_cycle.clean_prep_break_batt(PP_A_0)\n",
    "# reshapes the index data\n",
    "PP_A_indeces = batt_cycle.reshape_cycle_indeces(PP_A, PP_A_break)\n",
    "# combine data and indeces for pickling\n",
    "PP_A_data = [PP_A, PP_A_indeces]\n",
    "pickle.dump(PP_A_data, open('../Data/LSB/5_29_19/6_7_19/PP_A_data.pickle', 'wb'))\n",
    "print(\"--- %s seconds ---\" % (time.time() - start_time))"
   ]
  },
  {
   "cell_type": "code",
   "execution_count": 9,
   "metadata": {},
   "outputs": [
    {
     "name": "stdout",
     "output_type": "stream",
     "text": [
      "Number of Cycles = 38\n",
      "--- 37.86377310752869 seconds ---\n"
     ]
    }
   ],
   "source": [
    "# import and clean data\n",
    "start_time = time.time()\n",
    "raw_data = '../Data/LSB/5_29_19/6_7_19/_008_6.xls'\n",
    "# imports and concatenates the data for a cell\n",
    "PP_B_0 = batt_cycle.import_data(raw_data, 3)\n",
    "# cleans and preps dataframes\n",
    "PP_B, PP_B_break = batt_cycle.clean_prep_break_batt(PP_B_0)\n",
    "# reshapes the index data\n",
    "PP_B_indeces = batt_cycle.reshape_cycle_indeces(PP_B, PP_B_break)\n",
    "# combine data and indeces for pickling\n",
    "PP_B_data = [PP_B, PP_B_indeces]\n",
    "pickle.dump(PP_B_data, open('../Data/LSB/5_29_19/6_7_19/PP_B_data.pickle', 'wb'))\n",
    "print(\"--- %s seconds ---\" % (time.time() - start_time))"
   ]
  },
  {
   "cell_type": "code",
   "execution_count": 18,
   "metadata": {},
   "outputs": [],
   "source": [
    "# open PEO_PVDF_A\n",
    "data_file = '../Data/LSB/5_29_19/6_7_19/PEO_PVDF_A_data.pickle'\n",
    "sample_data1 = pickle.load(open(data_file, 'rb'))\n",
    "sample1, sample_indeces1 = sample_data1\n",
    "sample1['time_hours'] = sample1['time_sec']/3600\n",
    "\n",
    "# open PEO_PVDF_B\n",
    "data_file = '../Data/LSB/5_29_19/6_7_19/PEO_PVDF_B_data.pickle'\n",
    "sample_data2 = pickle.load(open(data_file, 'rb'))\n",
    "sample2, sample_indeces2 = sample_data2\n",
    "sample2['time_hours'] = sample2['time_sec']/3600\n",
    "\n",
    "# open PENDI_A\n",
    "data_file = '../Data/LSB/5_29_19/6_7_19/PENDI_A_data.pickle'\n",
    "sample_data3 = pickle.load(open(data_file, 'rb'))\n",
    "sample3, sample_indeces3 = sample_data3\n",
    "sample3['time_hours'] = sample3['time_sec']/3600\n",
    "\n",
    "# open PENDI_B\n",
    "data_file = '../Data/LSB/5_29_19/6_7_19/PENDI_B_data.pickle'\n",
    "sample_data4 = pickle.load(open(data_file, 'rb'))\n",
    "sample4, sample_indeces4 = sample_data4\n",
    "sample4['time_hours'] = sample4['time_sec']/3600\n",
    "\n",
    "# open PP_A\n",
    "data_file = '../Data/LSB/5_29_19/6_7_19/PP_A_data.pickle'\n",
    "sample_data5 = pickle.load(open(data_file, 'rb'))\n",
    "sample5, sample_indeces5 = sample_data5\n",
    "sample5['time_hours'] = sample5['time_sec']/3600\n",
    "\n",
    "# open PP_B\n",
    "data_file = '../Data/LSB/5_29_19/6_7_19/PP_B_data.pickle'\n",
    "sample_data6 = pickle.load(open(data_file, 'rb'))\n",
    "sample6, sample_indeces6 = sample_data6\n",
    "sample6['time_hours'] = sample6['time_sec']/3600"
   ]
  },
  {
   "cell_type": "code",
   "execution_count": 40,
   "metadata": {},
   "outputs": [
    {
     "data": {
      "text/plain": [
       "<matplotlib.legend.Legend at 0x126b0c240>"
      ]
     },
     "execution_count": 40,
     "metadata": {},
     "output_type": "execute_result"
    },
    {
     "data": {
      "image/png": "[encoded data removed]",
      "text/plain": [
       "<Figure size 800x400 with 1 Axes>"
      ]
     },
     "metadata": {
      "needs_background": "light"
     },
     "output_type": "display_data"
    }
   ],
   "source": [
    "# plotting a cycle range\n",
    "start_cycle = 2\n",
    "end_cycle = 2\n",
    "\n",
    "range_data1, label1 = batt_cycle.cycle_range_data(sample1, sample_indeces1, start_cycle, end_cycle)\n",
    "range_data2, label2 = batt_cycle.cycle_range_data(sample2, sample_indeces2, start_cycle, end_cycle)\n",
    "range_data3, label3 = batt_cycle.cycle_range_data(sample3, sample_indeces3, start_cycle, end_cycle)\n",
    "range_data4, label4 = batt_cycle.cycle_range_data(sample4, sample_indeces4, start_cycle, end_cycle)\n",
    "range_data5, label5 = batt_cycle.cycle_range_data(sample5, sample_indeces5, start_cycle, end_cycle)\n",
    "range_data6, label6 = batt_cycle.cycle_range_data(sample6, sample_indeces6, start_cycle, end_cycle)\n",
    "\n",
    "fig = plt.figure(figsize=(8,4), dpi=100)\n",
    "ax = fig.add_subplot(111)\n",
    "ax.set_title('LSB with coated separators (0.05C), Cycle 2', fontsize=14, pad=10)\n",
    "ax.set_xlabel('Capacity ($mAh$)')\n",
    "ax.set_ylabel('Potential ($V$)')\n",
    "ax.set_xlim(-0.1, 1.75)\n",
    "# ax.set_ylim(-0.5, 0.5)\n",
    "# ax.set_ylim(-abs(max(range_data['voltage'], key=abs)*1.2),\n",
    "#          abs(max(range_data['voltage'], key=abs)*1.2))\n",
    "# ax.set_xlim(min(range_data['time_hours']), max(range_data['time_hours']))\n",
    "# ax.yaxis.grid(True)\n",
    "# ax.text(0.15, 0.15, '0.2 $mA$ $cm^{-2}$, Li(G4)TFSI', transform=fig.transFigure, fontsize=12)\n",
    "\n",
    "# ax.plot(range_data1['capacity'], range_data1['voltage'], linewidth=0.7, label='PEO-PVDF')\n",
    "ax.plot(range_data2['capacity'], range_data2['voltage'], linewidth=0.7, label='PEO-PVDF', color='C0')\n",
    "# ax.plot(range_data3['capacity'], range_data3['voltage'], linewidth=0.7, label='PENDI (80wt%)')\n",
    "ax.plot(range_data4['capacity'], range_data4['voltage'], linewidth=0.7, label='PENDI (80wt%)', color='C1')\n",
    "# ax.plot(range_data5['capacity'], range_data5['voltage'], linewidth=0.7, label='raw PP')\n",
    "ax.plot(range_data6['capacity'], range_data6['voltage'], linewidth=0.7, label='raw PP', color='C2')\n",
    "\n",
    "ax.legend()\n",
    "# filename = '{} - '.format(data_file[27:-12])+label+'.png'\n",
    "# plt.savefig('./Figures/'+filename)\n",
    "\n",
    "\n",
    "# #****************************************\n",
    "# # plotting a cycle range\n",
    "# start_cycle = 7\n",
    "# end_cycle = 7\n",
    "\n",
    "# range_data1, label1 = batt_cycle.cycle_range_data(sample1, sample_indeces1, start_cycle, end_cycle)\n",
    "# range_data2, label2 = batt_cycle.cycle_range_data(sample2, sample_indeces2, start_cycle, end_cycle)\n",
    "# range_data3, label3 = batt_cycle.cycle_range_data(sample3, sample_indeces3, start_cycle, end_cycle)\n",
    "# range_data4, label4 = batt_cycle.cycle_range_data(sample4, sample_indeces4, start_cycle, end_cycle)\n",
    "# range_data5, label5 = batt_cycle.cycle_range_data(sample5, sample_indeces5, start_cycle, end_cycle)\n",
    "# range_data6, label6 = batt_cycle.cycle_range_data(sample6, sample_indeces6, start_cycle, end_cycle)\n",
    "\n",
    "# # ax.plot(range_data1['capacity'], range_data1['voltage'], linewidth=0.7, label='PEO-PVDF')\n",
    "# ax.plot(range_data2['capacity'], range_data2['voltage'], linewidth=0.7, color='C0')\n",
    "# # ax.plot(range_data3['capacity'], range_data3['voltage'], linewidth=0.7, label='PENDI (80wt%)')\n",
    "# ax.plot(range_data4['capacity'], range_data4['voltage'], linewidth=0.7, color='C1')\n",
    "# # ax.plot(range_data5['capacity'], range_data5['voltage'], linewidth=0.7, label='raw PP')\n",
    "# ax.plot(range_data6['capacity'], range_data6['voltage'], linewidth=0.7, color='C2')\n",
    "\n",
    "# #****************************************\n",
    "# # plotting a cycle range\n",
    "# start_cycle = 16\n",
    "# end_cycle = 16\n",
    "\n",
    "# range_data1, label1 = batt_cycle.cycle_range_data(sample1, sample_indeces1, start_cycle, end_cycle)\n",
    "# range_data2, label2 = batt_cycle.cycle_range_data(sample2, sample_indeces2, start_cycle, end_cycle)\n",
    "# range_data3, label3 = batt_cycle.cycle_range_data(sample3, sample_indeces3, start_cycle, end_cycle)\n",
    "# range_data4, label4 = batt_cycle.cycle_range_data(sample4, sample_indeces4, start_cycle, end_cycle)\n",
    "# range_data5, label5 = batt_cycle.cycle_range_data(sample5, sample_indeces5, start_cycle, end_cycle)\n",
    "# range_data6, label6 = batt_cycle.cycle_range_data(sample6, sample_indeces6, start_cycle, end_cycle)\n",
    "\n",
    "# # ax.plot(range_data1['capacity'], range_data1['voltage'], linewidth=0.7, label='PEO-PVDF')\n",
    "# ax.plot(range_data2['capacity'], range_data2['voltage'], linewidth=0.7, color='C0')\n",
    "# # ax.plot(range_data3['capacity'], range_data3['voltage'], linewidth=0.7, label='PENDI (80wt%)')\n",
    "# ax.plot(range_data4['capacity'], range_data4['voltage'], linewidth=0.7, color='C1')\n",
    "# # ax.plot(range_data5['capacity'], range_data5['voltage'], linewidth=0.7, label='raw PP')\n",
    "# ax.plot(range_data6['capacity'], range_data6['voltage'], linewidth=0.7, color='C2')"
   ]
  },
  {
   "cell_type": "markdown",
   "metadata": {},
   "source": [
    "### First charge specific capacities\n",
    "PEO_PVDF_A: 1159 mAh/g  \n",
    "PEO_PVDF_B: 1118 mAh/g  \n",
    "PENDI_A: 1105 mAh/g  \n",
    "PENDI_B: 1176 mAh/g  \n",
    "PP_A: 1316.3 mAh/g  \n",
    "PP_B: 1036.3 mAh/g  "
   ]
  },
  {
   "cell_type": "code",
   "execution_count": null,
   "metadata": {},
   "outputs": [],
   "source": []
  }
 ],
 "metadata": {
  "kernelspec": {
   "display_name": "Python 3",
   "language": "python",
   "name": "python3"
  },
  "language_info": {
   "codemirror_mode": {
    "name": "ipython",
    "version": 3
   },
   "file_extension": ".py",
   "mimetype": "text/x-python",
   "name": "python",
   "nbconvert_exporter": "python",
   "pygments_lexer": "ipython3",
   "version": "3.7.1"
  }
 },
 "nbformat": 4,
 "nbformat_minor": 2
}
